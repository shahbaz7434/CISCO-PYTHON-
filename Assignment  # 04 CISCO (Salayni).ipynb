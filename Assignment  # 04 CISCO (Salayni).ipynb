{
 "cells": [
  {
   "cell_type": "markdown",
   "metadata": {},
   "source": [
    "# Question1:\n",
    "Use a dictionary to store information about a person you know. Store their first name, last name, age, and the city in which they live. You should have keys such as first_name, last_name, age, and city. Print each piece of information stored in your dictionary. Add a new key value pair about qualification then update the qualification value to high academic level then delete it.\n",
    "\n"
   ]
  },
  {
   "cell_type": "code",
   "execution_count": 1,
   "metadata": {},
   "outputs": [
    {
     "name": "stdout",
     "output_type": "stream",
     "text": [
      "first_name : shahbaz\n",
      "last_name : Muneer\n",
      "age : 20\n",
      "city : Karachi\n",
      "=============================================\n",
      "\n",
      "Add Qualification \n",
      "\n",
      "qualification : Intermediate\n",
      "=============================================\n",
      "\n",
      "Update Qualification \n",
      "\n",
      "first_name : shahbaz\n",
      "last_name : Muneer\n",
      "age : 20\n",
      "city : Karachi\n",
      "qualification : High Academic\n",
      "=============================================\n",
      "\n",
      "Delete Qualification \n",
      "\n",
      "{'first_name': 'shahbaz', 'last_name': 'Muneer', 'age': 20, 'city': 'Karachi'}\n"
     ]
    }
   ],
   "source": [
    "person_dict={'first_name':'shahbaz','last_name':'Muneer',\n",
    "            'age':20,'city':'Karachi'}\n",
    "\n",
    "for key, value in person_dict.items():\n",
    "    print(key,\":\",value)\n",
    "print(\"=============================================\")\n",
    "print(\"\\nAdd Qualification \\n\")\n",
    "person_dict[\"qualification\"]=\"Intermediate\"\n",
    "print('qualification :',person_dict[\"qualification\"])\n",
    "print(\"=============================================\")\n",
    "print(\"\\nUpdate Qualification \\n\")\n",
    "person_dict[\"qualification\"]=\"High Academic\"\n",
    "for key, value in person_dict.items():\n",
    "    print(key,\":\",value)\n",
    "print(\"=============================================\")\n",
    "print(\"\\nDelete Qualification \\n\")\n",
    "del person_dict[\"qualification\"]\n",
    "print(person_dict)"
   ]
  },
  {
   "cell_type": "markdown",
   "metadata": {},
   "source": [
    "# Question2:\n",
    "Make a dictionary called cities. Use the names of three cities as keys in your dictionary. Create a dictionary of information about each city and include the country that the city is in, its approximate population, and one fact about that city. The keys for each city’s dictionary should be something like country, population, and fact. Print the name of each city and all of the information you have stored about it.\n"
   ]
  },
  {
   "cell_type": "code",
   "execution_count": 2,
   "metadata": {},
   "outputs": [
    {
     "name": "stdout",
     "output_type": "stream",
     "text": [
      "\n",
      "Karachi\n",
      "\n",
      "country : Pakistan\n",
      "population : 15741000\n",
      "fact : Karachi is the backbone of Pakistan's economy, contributing 42 per cent of GDP,\n",
      "        70 per cent of income tax revenue and 62 per cent of sales tax revenue\n",
      "\n",
      "Lahore\n",
      "\n",
      "country : Pakistan\n",
      "population : 12188000\n",
      "fact : Lahore is the capital city of the Pakistani province of Punjab.\n",
      "        It is the second largest and most populated city in Pakistan\n",
      "\n",
      "Islamabad\n",
      "\n",
      "country : Pakistan\n",
      "population : 1095064\n",
      "fact : Islamabad is the capital of the top adventurous place Pakistan.This city\n",
      "        is famous due to the many parks, forests, greenery, breathtaking sites, safety,\n",
      "        high living standard, world fourth largest mosque and the Margalla Hills National park.\n",
      "        recently, United Nation of Organization conisder this city as the most save city in the world\n"
     ]
    }
   ],
   "source": [
    "cities={\n",
    "    \"Karachi\":{\n",
    "        \"country\"   :\"Pakistan\",\n",
    "        \"population\":15741000,\n",
    "        \"fact\"      :\"\"\"Karachi is the backbone of Pakistan's economy, contributing 42 per cent of GDP,\n",
    "        70 per cent of income tax revenue and 62 per cent of sales tax revenue\"\"\"\n",
    "    },\n",
    "    \"Lahore\":{\n",
    "        \"country\"   :\"Pakistan\",\n",
    "        \"population\":12188000,\n",
    "        \"fact\"      :\"\"\"Lahore is the capital city of the Pakistani province of Punjab.\n",
    "        It is the second largest and most populated city in Pakistan\"\"\"\n",
    "    },\n",
    "    \"Islamabad\":{\n",
    "        \"country\"   :\"Pakistan\",\n",
    "        \"population\":1095064,\n",
    "        \"fact\"      :\"\"\"Islamabad is the capital of the top adventurous place Pakistan.This city\n",
    "        is famous due to the many parks, forests, greenery, breathtaking sites, safety,\n",
    "        high living standard, world fourth largest mosque and the Margalla Hills National park.\n",
    "        recently, United Nation of Organization conisder this city as the most save city in the world\"\"\"\n",
    "    }\n",
    "}\n",
    "for citykey,cityinfo in cities.items():\n",
    "    print(\"\\n\"+citykey+\"\\n\")\n",
    "    for city in cityinfo:\n",
    "        print(city,\":\",str(cityinfo[city]))"
   ]
  },
  {
   "cell_type": "markdown",
   "metadata": {},
   "source": [
    "# Question3:\n",
    "A movie theater charges different ticket prices depending on a person’s age. If a person is under the age of 3, the ticket is free; if they are between 3 and 12, the ticket is $10; and if they are over age 12, the ticket is $15. Write a loop in which you ask users their age, and then tell them the cost of their movie ticket.\n"
   ]
  },
  {
   "cell_type": "code",
   "execution_count": null,
   "metadata": {},
   "outputs": [],
   "source": [
    "con='y'\n",
    "while con!='n':\n",
    "    age=int(input(\"Enter age : \"))\n",
    "    if age>12:\n",
    "        print(\"Ticket is 15$\")\n",
    "    elif age>=3:\n",
    "        print(\"Ticket is 10$\")\n",
    "    else:\n",
    "        print(\"Ticket is free\")\n",
    "    con=input(\"Are you want to take ticket y/n: \")"
   ]
  },
  {
   "cell_type": "markdown",
   "metadata": {},
   "source": [
    "# Question4:\n",
    "Write a function called favorite_book() that accepts one parameter, title. The function should print a message, such as One of my favorite books is Alice in Wonderland. Call the function, making sure to include a book title as an argument in the function call.\n"
   ]
  },
  {
   "cell_type": "code",
   "execution_count": null,
   "metadata": {},
   "outputs": [],
   "source": [
    "def favorite_book(title):\n",
    "    print(title)\n",
    "\n",
    "book_title=\"One of my favorite books is Alice in Wonderland.\"\n",
    "favorite_book(book_title)"
   ]
  },
  {
   "cell_type": "markdown",
   "metadata": {},
   "source": [
    "# Question5:\n",
    "Guess the number game\n",
    "Write a program which randomly generate a number between 1 to 30 and ask the user in input field to guess the correct number. Give three chances to user guess the number and also give hint to user if hidden number is greater or smaller than the number he given to input field.\n"
   ]
  },
  {
   "cell_type": "code",
   "execution_count": null,
   "metadata": {},
   "outputs": [],
   "source": [
    "import random\n",
    "a=0\n",
    "Rand_Number=0\n",
    "print('You Have 3 chances to guess the number\\n')\n",
    "Rand_Number=int(random.randrange(1,30))\n",
    "while a<3:\n",
    "    userNumber=int(input(\"Enter number between 1 and 30: \"))\n",
    "    a+=1\n",
    "    if Rand_Number>userNumber:\n",
    "        print(\"Hidden number is greater\\n\")\n",
    "    elif Rand_Number<userNumber:\n",
    "        print(\"Hidden number is Smaller\\n\")\n",
    "    else:\n",
    "        print(\"You guess the correct Number\")\n",
    "        break"
   ]
  },
  {
   "cell_type": "code",
   "execution_count": null,
   "metadata": {},
   "outputs": [],
   "source": []
  }
 ],
 "metadata": {
  "kernelspec": {
   "display_name": "Python 3",
   "language": "python",
   "name": "python3"
  },
  "language_info": {
   "codemirror_mode": {
    "name": "ipython",
    "version": 3
   },
   "file_extension": ".py",
   "mimetype": "text/x-python",
   "name": "python",
   "nbconvert_exporter": "python",
   "pygments_lexer": "ipython3",
   "version": "3.7.3"
  }
 },
 "nbformat": 4,
 "nbformat_minor": 2
}
