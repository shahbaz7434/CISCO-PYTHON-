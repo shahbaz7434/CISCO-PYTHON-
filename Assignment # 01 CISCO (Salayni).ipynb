{
 "cells": [
  {
   "cell_type": "markdown",
   "metadata": {},
   "source": [
    "# 1. Write a Python program to print the following string in a specific format\n",
    "(see the output).\n"
   ]
  },
  {
   "cell_type": "code",
   "execution_count": 53,
   "metadata": {},
   "outputs": [
    {
     "name": "stdout",
     "output_type": "stream",
     "text": [
      "\t Twinkle, twinkle, little star,\n",
      "\t\t How I wonder what you are!\n",
      "\t\t\t Up above the world so high\n",
      "\t\t\t Like a diamond in the sky.\n",
      "\t Twinkle, twinkle, little star,\n",
      "\t\t How I wonder what you are \n"
     ]
    }
   ],
   "source": [
    "print(\"\\t Twinkle, twinkle, little star,\", end = \"\\n\")\n",
    "print(\"\\t\\t How I wonder what you are!\",   end = \"\\n\")\n",
    "print(\"\\t\\t\\t Up above the world so high\", end = \"\\n\")\n",
    "print(\"\\t\\t\\t Like a diamond in the sky.\", end = \"\\n\")\n",
    "print(\"\\t Twinkle, twinkle, little star,\", end = \"\\n\")\n",
    "print(\"\\t\\t How I wonder what you are \",   end = \"\\n\")"
   ]
  },
  {
   "cell_type": "markdown",
   "metadata": {},
   "source": [
    "# 2. Write a Python program to get the Python version you are using "
   ]
  },
  {
   "cell_type": "code",
   "execution_count": 54,
   "metadata": {},
   "outputs": [
    {
     "name": "stdout",
     "output_type": "stream",
     "text": [
      "Python version\n",
      "3.7.3 (default, Mar 27 2019, 17:13:21) [MSC v.1915 64 bit (AMD64)]\n",
      "Version info.\n",
      "sys.version_info(major=3, minor=7, micro=3, releaselevel='final', serial=0)\n"
     ]
    }
   ],
   "source": [
    "import sys\n",
    "print(\"Python version\")\n",
    "print (sys.version)\n",
    "print(\"Version info.\")\n",
    "print (sys.version_info)3. Write a Python program to display the current date and time."
   ]
  },
  {
   "cell_type": "markdown",
   "metadata": {},
   "source": [
    "# 3. Write a Python program to display the current date and time."
   ]
  },
  {
   "cell_type": "code",
   "execution_count": 55,
   "metadata": {},
   "outputs": [
    {
     "name": "stdout",
     "output_type": "stream",
     "text": [
      "Current date and time : \n",
      "2019-11-02 12:11:19\n"
     ]
    }
   ],
   "source": [
    "import datetime\n",
    "now = datetime.datetime.now()\n",
    "print (\"Current date and time : \")\n",
    "print (now.strftime(\"%Y-%m-%d %H:%M:%S\"))"
   ]
  },
  {
   "cell_type": "markdown",
   "metadata": {},
   "source": [
    "# 4. Write a Python program which accepts the radius of a circle from the user and compute the area. "
   ]
  },
  {
   "cell_type": "code",
   "execution_count": 57,
   "metadata": {},
   "outputs": [
    {
     "name": "stdout",
     "output_type": "stream",
     "text": [
      "Enter the radius of the circle = 8\n",
      "The Area of the circle is = 201.088\n"
     ]
    }
   ],
   "source": [
    "radius_of_the_circle = int(input(\"Enter the radius of the circle = \"))\n",
    "print(\"The Area of the circle is =\",3.142*radius_of_the_circle**2)"
   ]
  },
  {
   "cell_type": "markdown",
   "metadata": {},
   "source": [
    "# 5. Write a Python program which accepts the user's first and last name and print them in reverse order with a space between them. "
   ]
  },
  {
   "cell_type": "code",
   "execution_count": 62,
   "metadata": {},
   "outputs": [
    {
     "name": "stdout",
     "output_type": "stream",
     "text": [
      "Enter your first name : AASSHH\n",
      "Enter your last name : PRINCE\n",
      "PRINCE AASSHH\n"
     ]
    }
   ],
   "source": [
    "first_name = str(input(\"Enter your first name : \"))\n",
    "last_name  = str(input(\"Enter your last name : \"))\n",
    "print(last_name,first_name, sep = \" \")"
   ]
  },
  {
   "cell_type": "markdown",
   "metadata": {},
   "source": [
    "# 6. Write a python program which takes two inputs from user and print them addition "
   ]
  },
  {
   "cell_type": "code",
   "execution_count": 67,
   "metadata": {},
   "outputs": [
    {
     "name": "stdout",
     "output_type": "stream",
     "text": [
      "Enter your first number  = 12\n",
      "Enter your second number = 8\n",
      "20\n"
     ]
    }
   ],
   "source": [
    "first_num  = int(input(\"Enter your first number  = \"))\n",
    "second_num = int(input(\"Enter your second number = \"))\n",
    "print(first_num + second_num )"
   ]
  }
 ],
 "metadata": {
  "kernelspec": {
   "display_name": "Python 3",
   "language": "python",
   "name": "python3"
  },
  "language_info": {
   "codemirror_mode": {
    "name": "ipython",
    "version": 3
   },
   "file_extension": ".py",
   "mimetype": "text/x-python",
   "name": "python",
   "nbconvert_exporter": "python",
   "pygments_lexer": "ipython3",
   "version": "3.7.3"
  }
 },
 "nbformat": 4,
 "nbformat_minor": 2
}
