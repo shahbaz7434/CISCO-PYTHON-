{
 "cells": [
  {
   "cell_type": "markdown",
   "metadata": {},
   "source": [
    "# 1. Write a program which takes 5 inputs from user for different subject’s"
   ]
  },
  {
   "cell_type": "markdown",
   "metadata": {},
   "source": [
    "# marks, total it and generate mark sheet using grades ?\n",
    "\n"
   ]
  },
  {
   "cell_type": "code",
   "execution_count": 2,
   "metadata": {},
   "outputs": [
    {
     "name": "stdout",
     "output_type": "stream",
     "text": [
      "Enter your mathematics marks:90\n",
      "Enter your English marks:90\n",
      "Enter your urdu marks:90\n",
      "Enter your chemistry marks:90\n",
      "Enter your physics marks:90\n",
      " Congartualtions! \n",
      " you got =  90.0  % \n",
      " Grade = A+ \n",
      " Remarks = supercallifragilisticexpialidocious\n",
      "\n"
     ]
    }
   ],
   "source": [
    "Math_marks =int(input(\"Enter your mathematics marks:\"))\n",
    "Eng_marks = int(input(\"Enter your English marks:\"))\n",
    "urdu_marks = int(input(\"Enter your urdu marks:\"))\n",
    "chem_marks = int(input(\"Enter your chemistry marks:\"))\n",
    "physics_marks = int(input(\"Enter your physics marks:\"))\n",
    "total_marks = (Math_marks + Eng_marks + urdu_marks + chem_marks + physics_marks)\n",
    "per = (total_marks/ 500)*100\n",
    "if per >= 80 and per <= 100:\n",
    "    print(\" Congartualtions! \\n you got = \",per,\" % \\n Grade = A+ \\n Remarks = supercallifragilisticexpialidocious\\n\")\n",
    "elif  per >= 70 and per < 80:\n",
    "    print(\" Congartualtions! \\n you got = \",per,\" % \\n Grade = A  \\n Remarks = Excellent\\n\")\n",
    "elif per >= 60 and per < 70:\n",
    "    print(\" Congartualtions! \\n you got = \",per,\" % \\n Grade = B  \\n Remarks = Good\\n\")\n",
    "elif per >= 50 and per < 60:\n",
    "    print(\" Congartualtions! \\n you got = \",per,\" % \\n Grade = C  \\n Remarks = Fare\\n\")\n",
    "elif  per <50:\n",
    "    print(\" poor!           \\n You got = \",per,\" % \\n Grade = F  \\n Remarks = You need to work hard \\n\")\n",
    "else:\n",
    "    print(\"Error! You provide inappropriate marks\")\n",
    "    "
   ]
  },
  {
   "cell_type": "markdown",
   "metadata": {},
   "source": [
    "# 2. Write a program which take input from user and identify that the given\n"
   ]
  },
  {
   "cell_type": "markdown",
   "metadata": {},
   "source": [
    "# number is even or odd?"
   ]
  },
  {
   "cell_type": "code",
   "execution_count": 22,
   "metadata": {},
   "outputs": [
    {
     "name": "stdout",
     "output_type": "stream",
     "text": [
      "Enter your number :2\n",
      "The given number is Even\n"
     ]
    }
   ],
   "source": [
    "user_input = int(input(\"Enter your number :\"))\n",
    "if user_input%2 == 0:\n",
    "    print(\"The given number is Even\")\n",
    "else:\n",
    "    print(\"The given number is odd\")"
   ]
  },
  {
   "cell_type": "markdown",
   "metadata": {},
   "source": [
    "# 3. Write a program which print the length of the list? "
   ]
  },
  {
   "cell_type": "code",
   "execution_count": 30,
   "metadata": {},
   "outputs": [
    {
     "data": {
      "text/plain": [
       "10"
      ]
     },
     "execution_count": 30,
     "metadata": {},
     "output_type": "execute_result"
    }
   ],
   "source": [
    "list = [1,2,3,4,5,6,7,8,9,10]\n",
    "len(list)"
   ]
  },
  {
   "cell_type": "markdown",
   "metadata": {},
   "source": [
    "# 4. Write a Python program to sum all the numeric items in a list? "
   ]
  },
  {
   "cell_type": "code",
   "execution_count": 1,
   "metadata": {},
   "outputs": [
    {
     "name": "stdout",
     "output_type": "stream",
     "text": [
      "55\n"
     ]
    }
   ],
   "source": [
    "list = [1,2,3,4,5,6,7,8,9,10]\n",
    "print(sum(list))"
   ]
  },
  {
   "cell_type": "markdown",
   "metadata": {},
   "source": [
    "# 5. Write a Python program to get the largest number from a numeric list"
   ]
  },
  {
   "cell_type": "code",
   "execution_count": 21,
   "metadata": {},
   "outputs": [
    {
     "name": "stdout",
     "output_type": "stream",
     "text": [
      "2\n"
     ]
    }
   ],
   "source": [
    "def max_num_in_list( list ):\n",
    "    max = list[ 0 ]\n",
    "    for a in list:\n",
    "        if a > max:\n",
    "            max = a\n",
    "            return max\n",
    "print(max_num_in_list([1, 2, -8, 0, 12]))"
   ]
  },
  {
   "cell_type": "markdown",
   "metadata": {},
   "source": [
    "# 6. write a program that prints out all the elements of the list that are less than 5. "
   ]
  },
  {
   "cell_type": "code",
   "execution_count": 29,
   "metadata": {},
   "outputs": [
    {
     "name": "stdout",
     "output_type": "stream",
     "text": [
      "1\n",
      "1\n",
      "2\n",
      "3\n"
     ]
    }
   ],
   "source": [
    "a = [1, 1, 2, 3, 5, 8, 13, 21, 34, 55, 89] \n",
    "for i in a:\n",
    "    if i<5:\n",
    "        print(i)"
   ]
  },
  {
   "cell_type": "code",
   "execution_count": null,
   "metadata": {},
   "outputs": [],
   "source": []
  }
 ],
 "metadata": {
  "kernelspec": {
   "display_name": "Python 3",
   "language": "python",
   "name": "python3"
  },
  "language_info": {
   "codemirror_mode": {
    "name": "ipython",
    "version": 3
   },
   "file_extension": ".py",
   "mimetype": "text/x-python",
   "name": "python",
   "nbconvert_exporter": "python",
   "pygments_lexer": "ipython3",
   "version": "3.7.3"
  }
 },
 "nbformat": 4,
 "nbformat_minor": 2
}
