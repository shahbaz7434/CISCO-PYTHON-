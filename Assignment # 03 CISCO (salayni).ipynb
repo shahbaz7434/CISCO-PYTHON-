{
 "cells": [
  {
   "cell_type": "markdown",
   "metadata": {},
   "source": [
    "# 1. Make a calculator using Python with addition , subtraction , multiplication ,division and power."
   ]
  },
  {
   "cell_type": "code",
   "execution_count": 11,
   "metadata": {},
   "outputs": [
    {
     "name": "stdout",
     "output_type": "stream",
     "text": [
      "enter your first number : 2\n",
      "select your operator : **\n",
      "enter your second number : 2\n",
      "4\n"
     ]
    }
   ],
   "source": [
    "number1 = int(input(\"enter your first number : \"))\n",
    "operator = input(\"select your operator : \")\n",
    "number2 = int(input(\"enter your second number : \"))\n",
    "if operator == \"+\" :\n",
    "    print(number1+number2)\n",
    "elif operator == \"-\" :\n",
    "    print(number1-number2)\n",
    "elif operator == \"*\":\n",
    "    print(number1*number2)\n",
    "elif operator == \"/\":\n",
    "    print(number1/number2)\n",
    "elif operator == \"**\":\n",
    "    print(number1**number2)\n",
    "else:\n",
    "    print(\"sorry invalid operator\")\n",
    "        \n"
   ]
  },
  {
   "cell_type": "markdown",
   "metadata": {},
   "source": [
    "## 2. Write a program to check if there is any numeric value in list using for loop\n"
   ]
  },
  {
   "cell_type": "code",
   "execution_count": 4,
   "metadata": {},
   "outputs": [
    {
     "name": "stdout",
     "output_type": "stream",
     "text": [
      "2\n",
      "4\n",
      "56\n",
      "4\n"
     ]
    }
   ],
   "source": [
    "list = [ \"ali\",\"shahbaz\",2,\"2\",4,56,\"7\",4]\n",
    "for i in list:\n",
    "    if type(i) == int :\n",
    "        print(i)"
   ]
  },
  {
   "cell_type": "markdown",
   "metadata": {},
   "source": [
    "# 3. Write a Python script to add a key to a dictionary"
   ]
  },
  {
   "cell_type": "code",
   "execution_count": 8,
   "metadata": {},
   "outputs": [
    {
     "name": "stdout",
     "output_type": "stream",
     "text": [
      "{'a': 2, 'b': 4, 'c': 6, 'd': 8}\n"
     ]
    }
   ],
   "source": [
    "dic = {\"a\" :  2,\n",
    "       \"b\"  : 4,\n",
    "       \"c\"  : 6,\n",
    "       \"d\"  : 8}\n",
    "print(dic)"
   ]
  },
  {
   "cell_type": "markdown",
   "metadata": {},
   "source": [
    "# 4. Write a Python program to sum all the numeric items in a dictionary"
   ]
  },
  {
   "cell_type": "code",
   "execution_count": 19,
   "metadata": {},
   "outputs": [
    {
     "name": "stdout",
     "output_type": "stream",
     "text": [
      "20\n"
     ]
    }
   ],
   "source": [
    "sum = 0\n",
    "dic = {\"a\"  : 2,\n",
    "       \"b\"  : 4,\n",
    "       \"c\"  : 6,\n",
    "       \"d\"  : 8,\n",
    "       \"e\"  : \"20\"\n",
    "      }\n",
    "for output in dic.values():\n",
    "    if type(output) == int:\n",
    "        sum = sum + output\n",
    "print(sum)"
   ]
  },
  {
   "cell_type": "markdown",
   "metadata": {},
   "source": [
    "# 5. Write a program to identify duplicate values from list\n"
   ]
  },
  {
   "cell_type": "code",
   "execution_count": 20,
   "metadata": {},
   "outputs": [
    {
     "name": "stdout",
     "output_type": "stream",
     "text": [
      "Original List:  ['Aneeqa', 'Hamza', 'Aneeqa', 1, 1, 0.4, 0.4, 2, 3, 4, 5, 6] \n",
      "\n",
      "Found Duplicate Values in List:  ['Aneeqa', 1, 0.4]\n"
     ]
    }
   ],
   "source": [
    "l=[\"Aneeqa\",\"Hamza\",\"Aneeqa\",1,1,0.4,0.4,2,3,4,5,6]\n",
    "n=[]\n",
    "d=[]\n",
    "for i in l:\n",
    "    if i in n:\n",
    "        d.append(i)\n",
    "    else:\n",
    "        n.append(i)\n",
    "print(\"Original List: \",l,\"\\n\")\n",
    "print(\"Found Duplicate Values in List: \",d)"
   ]
  },
  {
   "cell_type": "markdown",
   "metadata": {},
   "source": [
    "# 6. Write a Python script to check if a given key already exists in a dictionary"
   ]
  },
  {
   "cell_type": "code",
   "execution_count": 21,
   "metadata": {},
   "outputs": [
    {
     "name": "stdout",
     "output_type": "stream",
     "text": [
      "Enter Search Key Number: 4\n",
      "Key is present in the dictionary\n"
     ]
    }
   ],
   "source": [
    "d = {1: 'Hamza', 2: 20, 3: 30, 4: 'Rabia', 5: 50, 6: 60}\n",
    "\n",
    "x=int(input('Enter Search Key Number: '))\n",
    "if x in d:\n",
    "  print('Key is present in the dictionary')\n",
    "else:\n",
    "  print('Key is not present in the dictionary')\n"
   ]
  },
  {
   "cell_type": "code",
   "execution_count": null,
   "metadata": {},
   "outputs": [],
   "source": []
  }
 ],
 "metadata": {
  "kernelspec": {
   "display_name": "Python 3",
   "language": "python",
   "name": "python3"
  },
  "language_info": {
   "codemirror_mode": {
    "name": "ipython",
    "version": 3
   },
   "file_extension": ".py",
   "mimetype": "text/x-python",
   "name": "python",
   "nbconvert_exporter": "python",
   "pygments_lexer": "ipython3",
   "version": "3.7.3"
  }
 },
 "nbformat": 4,
 "nbformat_minor": 2
}
