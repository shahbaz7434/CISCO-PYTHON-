{
 "cells": [
  {
   "cell_type": "markdown",
   "metadata": {},
   "source": [
    "# Question:1\n",
    "Write a Python function to calculate the factorial of a number (a non-negative\n",
    "integer). The function accepts the number as an argument."
   ]
  },
  {
   "cell_type": "code",
   "execution_count": 3,
   "metadata": {},
   "outputs": [
    {
     "name": "stdout",
     "output_type": "stream",
     "text": [
      "Enter Number: 0\n",
      "The factorial of 0 is: 1\n"
     ]
    }
   ],
   "source": [
    "def fact(num):\n",
    "    factorial = 1\n",
    "    if num < 0:\n",
    "       print(\"Sorry!, factorial does not exist of negative numbers\")\n",
    "    elif num == 0:\n",
    "       print(\"The factorial of 0 is: 1\")\n",
    "    else:\n",
    "       for i in range(1,num + 1):\n",
    "           factorial = factorial*i\n",
    "       print(\"The factorial of\",num,\"is:\",factorial)\n",
    "try:\n",
    "    num = int(input('Enter Number: '))\n",
    "except:\n",
    "    print('Enter Integer Numbers')\n",
    "else:\n",
    "    fact(num)"
   ]
  },
  {
   "cell_type": "markdown",
   "metadata": {},
   "source": [
    "# Question:2\n",
    "Write a Python function that accepts a string and calculate the number of upper\n",
    "case letters and lower case letters.\n"
   ]
  },
  {
   "cell_type": "code",
   "execution_count": 5,
   "metadata": {},
   "outputs": [
    {
     "name": "stdout",
     "output_type": "stream",
     "text": [
      "Original String :  My Name is Muhammad Shahbaz Muneer\n",
      "No. of Upper case characters :  5\n",
      "No. of Lower case Characters :  24\n"
     ]
    }
   ],
   "source": [
    "def string(s):\n",
    "    d={\"UPPER_CASE\":0, \"LOWER_CASE\":0}\n",
    "    for c in s:\n",
    "        if c.isupper():\n",
    "           d[\"UPPER_CASE\"]+=1\n",
    "        elif c.islower():\n",
    "           d[\"LOWER_CASE\"]+=1\n",
    "        else:\n",
    "           pass\n",
    "    print (\"Original String : \", s)\n",
    "    print (\"No. of Upper case characters : \", d[\"UPPER_CASE\"])\n",
    "    print (\"No. of Lower case Characters : \", d[\"LOWER_CASE\"])\n",
    "\n",
    "string('My Name is Muhammad Shahbaz Muneer')"
   ]
  },
  {
   "cell_type": "markdown",
   "metadata": {},
   "source": [
    "# Question:3\n",
    "Write a Python function to print the even numbers from a given list."
   ]
  },
  {
   "cell_type": "code",
   "execution_count": 14,
   "metadata": {},
   "outputs": [
    {
     "name": "stdout",
     "output_type": "stream",
     "text": [
      "Given List  [1, 4, 44, 55, 78, 99, 97, 114, 118, 233, 45, 456, 778, 989]\n",
      "Even Numbers In A List Are:\n",
      "4\n",
      "44\n",
      "78\n",
      "114\n",
      "118\n",
      "456\n",
      "778\n"
     ]
    }
   ],
   "source": [
    "l=[1,4,44,55,78,99,97,114,118,233,45,456,778,989]\n",
    "\n",
    "def printEvenNo(List):\n",
    "    print('Given List ',List)\n",
    "    print('Even Numbers In A List Are:')\n",
    "    for i in List:\n",
    "        if i%2==0:\n",
    "            print(i)\n",
    "\n",
    "printEvenNo(l)"
   ]
  },
  {
   "cell_type": "markdown",
   "metadata": {},
   "source": [
    "# Question:4\n",
    "Write a Python function that checks whether a passed string is palindrome or not.\n",
    "Note: A palindrome is a word, phrase, or sequence that reads the same\n",
    "backward as forward, e.g., madam"
   ]
  },
  {
   "cell_type": "code",
   "execution_count": 16,
   "metadata": {},
   "outputs": [
    {
     "name": "stdout",
     "output_type": "stream",
     "text": [
      "Given String Is (Shahbaz) Not A Palindrome\n",
      "Given String (Madam) Is Palindrome\n",
      "Given String (Radar) Is Palindrome\n",
      "Given String (Civic) Is Palindrome\n",
      "Given String Is (Muneer) Not A Palindrome\n"
     ]
    }
   ],
   "source": [
    "def chkPal(string):\n",
    "    if string[:]==string[::-1]:\n",
    "        print(\"Given String (\"+string.title()+\") Is Palindrome\")\n",
    "    else:\n",
    "        print(\"Given String Is (\"+string.title()+\") Not A Palindrome\")\n",
    "\n",
    "chkPal('Shahbaz'.lower())\n",
    "chkPal('Madam'.lower())\n",
    "chkPal('radar'.lower())\n",
    "chkPal('civic'.lower())\n",
    "chkPal('Muneer'.lower())"
   ]
  },
  {
   "cell_type": "markdown",
   "metadata": {},
   "source": [
    "# Question:5\n",
    "Write a Python function that takes a number as a parameter and check the\n",
    "number is prime or not."
   ]
  },
  {
   "cell_type": "code",
   "execution_count": 17,
   "metadata": {},
   "outputs": [
    {
     "name": "stdout",
     "output_type": "stream",
     "text": [
      "Enter Number: 7\n",
      "7 is a prime number\n"
     ]
    }
   ],
   "source": [
    "def prime(num):\n",
    "    if num > 1:\n",
    "       for i in range(2,num):\n",
    "           if (num % i) == 0:\n",
    "               print(num,\"is not a prime number\")\n",
    "               print(i,\"x\",num//i,\"is\",num)\n",
    "               break\n",
    "       else:\n",
    "           print(num,\"is a prime number\")\n",
    "\n",
    "    else:\n",
    "       print(num,\"is not a prime number\")\n",
    "prime(int(input('Enter Number: ')))"
   ]
  },
  {
   "cell_type": "markdown",
   "metadata": {},
   "source": [
    "# Question: 6\n",
    "Suppose a customer is shopping in a market and you need to print all the items\n",
    "which user bought from market.\n",
    "Write a function which accepts the multiple arguments of user shopping list and\n",
    "print all the items which user bought from market.\n",
    "(Hint: Arbitrary Argument concept can make this task ease)"
   ]
  },
  {
   "cell_type": "code",
   "execution_count": 19,
   "metadata": {},
   "outputs": [
    {
     "name": "stdout",
     "output_type": "stream",
     "text": [
      "You bought: Shirts\n",
      "You bought: Tousers\n",
      "You bought: Shoes\n",
      "You bought: Toys\n",
      "You bought: Sweaters\n",
      "You bought: paints\n",
      "You bought: equipments\n",
      "\n",
      "Your Shopping List are/is: ['Shirts', 'Tousers', 'Shoes', 'Toys', 'Sweaters', 'paints', 'equipments']\n"
     ]
    }
   ],
   "source": [
    "L=[]\n",
    "def shoppingCart(*items):\n",
    "    for i in items:\n",
    "        L.append(i)\n",
    "        print(\"You bought:\",i)\n",
    "    print('\\nYour Shopping List are/is:',L)\n",
    "shoppingCart(\"Shirts\",\"Tousers\",\"Shoes\",\"Toys\",\"Sweaters\",\"paints\",\"equipments\")"
   ]
  }
 ],
 "metadata": {
  "kernelspec": {
   "display_name": "Python 3",
   "language": "python",
   "name": "python3"
  },
  "language_info": {
   "codemirror_mode": {
    "name": "ipython",
    "version": 3
   },
   "file_extension": ".py",
   "mimetype": "text/x-python",
   "name": "python",
   "nbconvert_exporter": "python",
   "pygments_lexer": "ipython3",
   "version": "3.7.3"
  }
 },
 "nbformat": 4,
 "nbformat_minor": 2
}
